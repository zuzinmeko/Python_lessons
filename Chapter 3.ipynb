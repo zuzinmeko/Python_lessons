{
 "cells": [
  {
   "cell_type": "markdown",
   "id": "1988e67c",
   "metadata": {},
   "source": [
    "Returning error"
   ]
  },
  {
   "cell_type": "code",
   "execution_count": 9,
   "id": "6a3b2d81",
   "metadata": {},
   "outputs": [
    {
     "name": "stdout",
     "output_type": "stream",
     "text": [
      "1.7917594686571028 \n",
      " \n",
      " 9.962601874928813e-11 \n",
      " 5.7095217442793e-10\n"
     ]
    }
   ],
   "source": [
    "def L2(x,n):\n",
    "    \"\"\"\n",
    "    This function calculates the approximate value of ln(1+x) by using summation\n",
    "    and compare their results\n",
    "    \n",
    "    \n",
    "    \"\"\"\n",
    "    x = float(x)\n",
    "    s = 0\n",
    "    for i in range(1, n+1):\n",
    "        s += (1.0/i) * (x/(1+x))**i\n",
    "    value_of_sum = s\n",
    "    first_neglected_term = (1.0/(n+1)) * (x/(1+x))**(n+1)\n",
    "    from math import log\n",
    "    actual_value = log(1+x)\n",
    "    exact_error = actual_value - value_of_sum\n",
    "    return value_of_sum,first_neglected_term,exact_error\n",
    "\n",
    "x = 5; n = 100\n",
    "value, approximate_error, exact_error = L2(x,n)\n",
    "print(value,'\\n', '\\n', approximate_error,'\\n', exact_error)\n",
    "    "
   ]
  },
  {
   "cell_type": "code",
   "execution_count": 11,
   "id": "72f0539e",
   "metadata": {},
   "outputs": [
    {
     "data": {
      "text/plain": [
       "'\\n    This function calculates the approximate value of ln(1+x) by using \\n    \\n    '"
      ]
     },
     "execution_count": 11,
     "metadata": {},
     "output_type": "execute_result"
    }
   ],
   "source": [
    "L2.__doc__"
   ]
  },
  {
   "cell_type": "markdown",
   "id": "2e770397",
   "metadata": {},
   "source": [
    "Make a table of L(x;n) vs ln(1+x)"
   ]
  },
  {
   "cell_type": "code",
   "execution_count": 10,
   "id": "06e79989",
   "metadata": {},
   "outputs": [
    {
     "name": "stdout",
     "output_type": "stream",
     "text": [
      "\n",
      " x=10, ln(1+x)=2.3979\n",
      "n=1    0.909091   (next term = 4.13e-01 error =1.49e+00)\n",
      "n=2    1.32231    (next term = 2.50e-01 error =1.08e+00)\n",
      "n=10   2.17907    (next term = 3.19e-02 error =2.19e-01)\n",
      "n=100  2.39789    (next term = 6.53e-07 error =6.59e-06)\n",
      "n=500  2.3979     (next term = 3.65e-24 error =6.22e-15)\n",
      "None\n"
     ]
    }
   ],
   "source": [
    "def table(x):\n",
    "    print ('\\n x=%g, ln(1+x)=%g' %(x,log(1+x)))\n",
    "    for n in [1,2,10,100,500]:\n",
    "        value, next, error = L2 (x,n)\n",
    "        print ('n=%-4d %-10g (next term = %8.2e error =%8.2e)'%(n, value, next, error))\n",
    "        \n",
    "from math import log\n",
    "print(table(10))\n"
   ]
  },
  {
   "cell_type": "markdown",
   "id": "9817e01a",
   "metadata": {},
   "source": [
    "Function with keyword arguments"
   ]
  },
  {
   "cell_type": "code",
   "execution_count": 15,
   "id": "f9b3efa7",
   "metadata": {},
   "outputs": [
    {
     "name": "stdout",
     "output_type": "stream",
     "text": [
      "Hello [1, 2] True 0\n"
     ]
    }
   ],
   "source": [
    "def somefunc(arg1, arg2, kwarg1 = True, kwarg2 = 0):\n",
    "    print(arg1, arg2, kwarg1, kwarg2)\n",
    "somefunc('Hello',[1,2])"
   ]
  },
  {
   "cell_type": "code",
   "execution_count": 16,
   "id": "6f46bf16",
   "metadata": {},
   "outputs": [
    {
     "ename": "NameError",
     "evalue": "name 'Flase' is not defined",
     "output_type": "error",
     "traceback": [
      "\u001b[1;31m---------------------------------------------------------------------------\u001b[0m",
      "\u001b[1;31mNameError\u001b[0m                                 Traceback (most recent call last)",
      "\u001b[1;32m<ipython-input-16-3043f5087847>\u001b[0m in \u001b[0;36m<module>\u001b[1;34m\u001b[0m\n\u001b[1;32m----> 1\u001b[1;33m \u001b[0msomefunc\u001b[0m\u001b[1;33m(\u001b[0m\u001b[0mkwarg2\u001b[0m\u001b[1;33m=\u001b[0m\u001b[1;34m'hi'\u001b[0m\u001b[1;33m,\u001b[0m \u001b[0mkwarg1\u001b[0m\u001b[1;33m=\u001b[0m \u001b[0mFlase\u001b[0m\u001b[1;33m,\u001b[0m \u001b[0marg1\u001b[0m\u001b[1;33m=\u001b[0m\u001b[1;34m'Hello'\u001b[0m\u001b[1;33m,\u001b[0m\u001b[0marg2\u001b[0m\u001b[1;33m=\u001b[0m\u001b[1;33m[\u001b[0m\u001b[1;36m1\u001b[0m\u001b[1;33m,\u001b[0m\u001b[1;36m2\u001b[0m\u001b[1;33m]\u001b[0m\u001b[1;33m)\u001b[0m\u001b[1;33m\u001b[0m\u001b[1;33m\u001b[0m\u001b[0m\n\u001b[0m",
      "\u001b[1;31mNameError\u001b[0m: name 'Flase' is not defined"
     ]
    }
   ],
   "source": [
    "somefunc(kwarg2='hi', kwarg1= Flase, arg1='Hello',arg2=[1,2])"
   ]
  },
  {
   "cell_type": "markdown",
   "id": "befc434f",
   "metadata": {},
   "source": [
    "Function of one variable but with additional parameters"
   ]
  },
  {
   "cell_type": "code",
   "execution_count": 6,
   "id": "d16830d4",
   "metadata": {},
   "outputs": [],
   "source": [
    "from math import sin, exp, pi\n",
    "def f(t,A=1, a=1, omega = 2*pi):\n",
    "    return A*exp(-a*t) * sin(omega*t)\n",
    "\n",
    "#function calls\n",
    "v1 = f(0.2)\n",
    "v2 = f(0.2, omega = 1)\n",
    "v2 = f(0.2, 1, 3)#some as t=0.2, A=1, a = 3\n",
    "v3 = f(0.2, omega=1, A=2.5)\n",
    "v4 = f(A=5, a = 0.3, omega=1, t=1.3)\n",
    "v5 = f(t=0.2, A=9)"
   ]
  },
  {
   "cell_type": "markdown",
   "id": "72bf1cbc",
   "metadata": {},
   "source": [
    "Python Function Arguments to Python Function"
   ]
  },
  {
   "cell_type": "code",
   "execution_count": 7,
   "id": "5df23588",
   "metadata": {},
   "outputs": [],
   "source": [
    "def diff2(f, x, h=1E-6):\n",
    "    return t**(-6)"
   ]
  },
  {
   "cell_type": "markdown",
   "id": "0b139cd9",
   "metadata": {},
   "source": [
    "#### Exercise 3.19:Factorial of a given number"
   ]
  },
  {
   "cell_type": "code",
   "execution_count": 6,
   "id": "98e4aa00",
   "metadata": {},
   "outputs": [],
   "source": [
    "def fact(n):\n",
    "    p = 1;\n",
    "    if n==0 or n==1:\n",
    "        return 1;\n",
    "    else:\n",
    "        for i in range(n, 0, -1):\n",
    "            p*=i\n",
    "        return p\n",
    "    print(fact(4))"
   ]
  },
  {
   "cell_type": "code",
   "execution_count": null,
   "id": "8162fd4e",
   "metadata": {},
   "outputs": [],
   "source": []
  }
 ],
 "metadata": {
  "kernelspec": {
   "display_name": "Python 3",
   "language": "python",
   "name": "python3"
  },
  "language_info": {
   "codemirror_mode": {
    "name": "ipython",
    "version": 3
   },
   "file_extension": ".py",
   "mimetype": "text/x-python",
   "name": "python",
   "nbconvert_exporter": "python",
   "pygments_lexer": "ipython3",
   "version": "3.8.8"
  }
 },
 "nbformat": 4,
 "nbformat_minor": 5
}
