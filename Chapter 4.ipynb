{
 "cells": [
  {
   "cell_type": "markdown",
   "id": "d38df50c",
   "metadata": {},
   "source": [
    "### Working data into files"
   ]
  },
  {
   "cell_type": "code",
   "execution_count": 20,
   "id": "5a41ef76",
   "metadata": {},
   "outputs": [],
   "source": [
    "f = open('data.txt' , 'w')\n",
    "f.write(\"\"\"21.8\n",
    "18.1\n",
    "19\n",
    "16\n",
    "18\n",
    "17.9\"\"\")\n",
    "f.close()"
   ]
  },
  {
   "cell_type": "code",
   "execution_count": 21,
   "id": "5f5f9b35",
   "metadata": {},
   "outputs": [
    {
     "name": "stdout",
     "output_type": "stream",
     "text": [
      "21.8\n",
      "18.1\n",
      "19.0\n",
      "16.0\n",
      "18.0\n",
      "17.9\n",
      "mean: 18.46666666666667\n"
     ]
    }
   ],
   "source": [
    "infile = open('data.txt' , 'r')\n",
    "mean = 0\n",
    "lines = infile.readlines()\n",
    "for e in lines:\n",
    "    number = float(e)\n",
    "    mean += number\n",
    "    print(number)\n",
    "mean = mean/len(lines)\n",
    "print('mean:' ,mean)\n",
    "infile.close()"
   ]
  },
  {
   "cell_type": "markdown",
   "id": "1a8bda24",
   "metadata": {},
   "source": [
    "### Reading all the contents to file"
   ]
  },
  {
   "cell_type": "code",
   "execution_count": 3,
   "id": "14341b9d",
   "metadata": {},
   "outputs": [
    {
     "ename": "NameError",
     "evalue": "name 'r' is not defined",
     "output_type": "error",
     "traceback": [
      "\u001b[1;31m---------------------------------------------------------------------------\u001b[0m",
      "\u001b[1;31mNameError\u001b[0m                                 Traceback (most recent call last)",
      "\u001b[1;32m<ipython-input-3-e7cc9849d016>\u001b[0m in \u001b[0;36m<module>\u001b[1;34m\u001b[0m\n\u001b[1;32m----> 1\u001b[1;33m \u001b[0minfile\u001b[0m \u001b[1;33m=\u001b[0m \u001b[0mopen\u001b[0m\u001b[1;33m(\u001b[0m\u001b[1;34m'data.txt'\u001b[0m\u001b[1;33m,\u001b[0m\u001b[0mr\u001b[0m\u001b[1;33m)\u001b[0m\u001b[1;33m\u001b[0m\u001b[1;33m\u001b[0m\u001b[0m\n\u001b[0m",
      "\u001b[1;31mNameError\u001b[0m: name 'r' is not defined"
     ]
    }
   ],
   "source": [
    "infile = open('data.txt',r)\n"
   ]
  },
  {
   "cell_type": "markdown",
   "id": "2b10871f",
   "metadata": {},
   "source": [
    "### Demo of File Reading"
   ]
  },
  {
   "cell_type": "code",
   "execution_count": 6,
   "id": "fcfb7b38",
   "metadata": {},
   "outputs": [],
   "source": [
    "f = open('tmp.txt' ,'w')\n",
    "f.write(\"\"\"\n",
    "line 1\n",
    "line 2\n",
    "line 3\n",
    "line 4\n",
    "\"\"\")\n",
    "f.close()"
   ]
  },
  {
   "cell_type": "markdown",
   "id": "72d89711",
   "metadata": {},
   "source": [
    "### File reading and string splitting"
   ]
  },
  {
   "cell_type": "code",
   "execution_count": 8,
   "id": "d0a3e916",
   "metadata": {},
   "outputs": [
    {
     "data": {
      "text/plain": [
       "'\\nline 1\\nline 2\\nline 3\\nline 4\\n'"
      ]
     },
     "execution_count": 8,
     "metadata": {},
     "output_type": "execute_result"
    }
   ],
   "source": [
    "infile = open('tmp.txt', 'r')\n",
    "filestr = infile.read()\n",
    "filestr"
   ]
  },
  {
   "cell_type": "code",
   "execution_count": 9,
   "id": "728c2cdb",
   "metadata": {},
   "outputs": [
    {
     "data": {
      "text/plain": [
       "['line', '1', 'line', '2', 'line', '3', 'line', '4']"
      ]
     },
     "execution_count": 9,
     "metadata": {},
     "output_type": "execute_result"
    }
   ],
   "source": [
    "filestr.split()"
   ]
  },
  {
   "cell_type": "code",
   "execution_count": 10,
   "id": "2465ebea",
   "metadata": {},
   "outputs": [
    {
     "data": {
      "text/plain": [
       "['\\nlin', ' 1\\nlin', ' 2\\nlin', ' 3\\nlin', ' 4\\n']"
      ]
     },
     "execution_count": 10,
     "metadata": {},
     "output_type": "execute_result"
    }
   ],
   "source": [
    "filestr.split('e')"
   ]
  },
  {
   "cell_type": "code",
   "execution_count": 12,
   "id": "e5152d72",
   "metadata": {},
   "outputs": [
    {
     "data": {
      "text/plain": [
       "['', 'line 1', 'line 2', 'line 3', 'line 4', '']"
      ]
     },
     "execution_count": 12,
     "metadata": {},
     "output_type": "execute_result"
    }
   ],
   "source": [
    "filestr.split('\\n')"
   ]
  },
  {
   "cell_type": "markdown",
   "id": "60025d94",
   "metadata": {},
   "source": [
    "### Reading file with text and number"
   ]
  },
  {
   "cell_type": "markdown",
   "id": "0f69aa1f",
   "metadata": {},
   "source": [
    "#### Reading Rome rainfall data(rainfall.txt)"
   ]
  },
  {
   "cell_type": "code",
   "execution_count": 18,
   "id": "0ed33757",
   "metadata": {},
   "outputs": [
    {
     "name": "stdout",
     "output_type": "stream",
     "text": [
      "Jan 81.2\n",
      "Feb 63.2\n",
      "Mar 70.3\n",
      "Apr 55.7\n",
      "May 53.0\n",
      "Jun 36.4\n",
      "Jul 17.5\n",
      "Aug 27.5\n",
      "Sep 60.9\n",
      "Oct 117.7\n",
      "Nov 111.0\n",
      "Dec 97.9\n",
      "Annual average: 792.9\n"
     ]
    }
   ],
   "source": [
    "def extract_data(filename):\n",
    "    infile = open(filename, 'r')\n",
    "    infile.readline()\n",
    "    months =[]\n",
    "    rainfall =[]\n",
    "    for line in infile:\n",
    "        words = line.split()\n",
    "        months.append(words[0])\n",
    "        rainfall.append(float(words[1]))\n",
    "    infile.close()\n",
    "    \n",
    "    months = months[:-1]\n",
    "    annual_avg = rainfall[-1]\n",
    "    rainfall = rainfall[:-1]\n",
    "    \n",
    "    return months, rainfall, annual_avg\n",
    "months, values, avg = extract_data('rainfall.txt')\n",
    "for m, v in zip(months, values):\n",
    "    print(m,v)\n",
    "print (\"Annual average:\" , avg)"
   ]
  },
  {
   "cell_type": "markdown",
   "id": "d5419b91",
   "metadata": {},
   "source": [
    "### Writing Data to File"
   ]
  },
  {
   "cell_type": "code",
   "execution_count": 27,
   "id": "eea11f07",
   "metadata": {},
   "outputs": [
    {
     "data": {
      "text/plain": [
       "(['Jan',\n",
       "  'Feb',\n",
       "  'Mar',\n",
       "  'Apr',\n",
       "  'May',\n",
       "  'Jun',\n",
       "  'Jul',\n",
       "  'Aug',\n",
       "  'Sep',\n",
       "  'Oct',\n",
       "  'Nov',\n",
       "  'Dec'],\n",
       " [81.2, 63.2, 70.3, 55.7, 53.0, 36.4, 17.5, 27.5, 60.9, 117.7, 111.0, 97.9],\n",
       " 792.9)"
      ]
     },
     "execution_count": 27,
     "metadata": {},
     "output_type": "execute_result"
    }
   ],
   "source": [
    "months,values,avg"
   ]
  },
  {
   "cell_type": "code",
   "execution_count": 26,
   "id": "cbbb9f09",
   "metadata": {},
   "outputs": [],
   "source": [
    "outfile = open('rainfall.dat', 'w')\n",
    "for m,v in zip(months, values):\n",
    "    outfile.write(m+ '   '+str(v) + '\\n')\n",
    "outfile.close()"
   ]
  },
  {
   "cell_type": "code",
   "execution_count": 28,
   "id": "2c4dcc92",
   "metadata": {},
   "outputs": [],
   "source": [
    "outfile = open('rainfall.dat' , 'a')\n",
    "outfile.write('Annual Average:' +str(avg))\n",
    "outfile.close()"
   ]
  },
  {
   "cell_type": "code",
   "execution_count": 31,
   "id": "22bd6211",
   "metadata": {},
   "outputs": [],
   "source": [
    "data = \\\n",
    "[[ 0.75,        0.29619813, -0.29619813, -0.75      ],\n",
    " [ 0.29619813,  0.11697778, -0.11697778, -0.29619813],\n",
    " [-0.29619813, -0.11697778,  0.11697778,  0.29619813],\n",
    " [-0.75,       -0.29619813,  0.29619813,  0.75      ]]"
   ]
  },
  {
   "cell_type": "code",
   "execution_count": 32,
   "id": "49df2ccf",
   "metadata": {},
   "outputs": [],
   "source": [
    "outfile = open('table_data.dat', 'w')\n",
    "for row in data:\n",
    "    for col in row:\n",
    "        outfile.write('%14.8f'%col)\n",
    "    outfile.write('\\n')\n",
    "outfile.close()"
   ]
  },
  {
   "cell_type": "markdown",
   "id": "60e06afc",
   "metadata": {},
   "source": [
    "### Making Your Own Mobile"
   ]
  },
  {
   "cell_type": "markdown",
   "id": "6b0ea528",
   "metadata": {},
   "source": [
    "#### module is a collection of data and functions"
   ]
  },
  {
   "cell_type": "code",
   "execution_count": 5,
   "id": "2cfaa833",
   "metadata": {},
   "outputs": [],
   "source": [
    "from math import log as ln\n",
    "\n",
    "def present_amount(A0, p, n):\n",
    "    return A0(1+p/(360*100))**n\n",
    "\n",
    "def initial_amount(A, p, n):\n",
    "    return A(1+p/(360*100))**(-n)\n",
    "\n",
    "def days(A0, A, p):\n",
    "    return ln(A/A0)/ln(1+p/(360*100))\n",
    "\n",
    "def annual_rate(A, A0, n):\n",
    "    return 360*100*((A/A0)**(1/n)-1)"
   ]
  },
  {
   "cell_type": "markdown",
   "id": "cc7c34bd",
   "metadata": {},
   "source": [
    "#### Write out the module to python file"
   ]
  },
  {
   "cell_type": "code",
   "execution_count": 8,
   "id": "e16fdb30",
   "metadata": {},
   "outputs": [],
   "source": [
    "with open('interest.py', 'w')as outfile:\n",
    "    outfile.write(\"\"\"from math import log as ln\n",
    "    \n",
    "def present_amount(A0, p, n):\n",
    "    return A0(1+p/(360*100))**n\n",
    "\n",
    "def initial_amount(A, p, n):\n",
    "    return A(1+p/(360*100))**(-n)\n",
    "\n",
    "def days(A0, A, p):\n",
    "    return ln(A/A0)/ln(1+p/(360*100))\n",
    "\n",
    "def annual_rate(A, A0, n):\n",
    "    return 360*100*((A/A0)**(1/n)-1)\n",
    "    \"\"\")"
   ]
  },
  {
   "cell_type": "markdown",
   "id": "e9a58856",
   "metadata": {},
   "source": [
    "#### Importing created module"
   ]
  },
  {
   "cell_type": "code",
   "execution_count": 12,
   "id": "393a9988",
   "metadata": {},
   "outputs": [
    {
     "name": "stdout",
     "output_type": "stream",
     "text": [
      "Money has doubled after 13.67399 years\n"
     ]
    }
   ],
   "source": [
    "from interest import days\n",
    "A0=1; A=2; p=5\n",
    "n = days(A0, 2, p)\n",
    "years = n/365\n",
    "print(\"Money has doubled after %.5f years\" %years)"
   ]
  },
  {
   "cell_type": "code",
   "execution_count": 14,
   "id": "6689dad3",
   "metadata": {},
   "outputs": [
    {
     "name": "stdout",
     "output_type": "stream",
     "text": [
      "4.99999991544442\n"
     ]
    }
   ],
   "source": [
    "from interest import annual_rate\n",
    "A0 = 1; A = 2; n = 13.67399*365\n",
    "p =annual_rate (A,A0,n)\n",
    "print (p)"
   ]
  },
  {
   "cell_type": "markdown",
   "id": "90639e05",
   "metadata": {},
   "source": [
    "### Test Block are collected in functions"
   ]
  },
  {
   "cell_type": "code",
   "execution_count": null,
   "id": "0d17d96e",
   "metadata": {},
   "outputs": [],
   "source": [
    "def test all_functions():\n",
    "    \"\"\"Define four variables, give three of these to compute the rest one and compare with original value(in parentheses)\"\"\"\n",
    "    A =2.2133983053266699; A0 =2; A =\n",
    "\n",
    "if __name__=='__main__':\n",
    "    test_all_functions()"
   ]
  }
 ],
 "metadata": {
  "kernelspec": {
   "display_name": "Python 3",
   "language": "python",
   "name": "python3"
  },
  "language_info": {
   "codemirror_mode": {
    "name": "ipython",
    "version": 3
   },
   "file_extension": ".py",
   "mimetype": "text/x-python",
   "name": "python",
   "nbconvert_exporter": "python",
   "pygments_lexer": "ipython3",
   "version": "3.8.8"
  }
 },
 "nbformat": 4,
 "nbformat_minor": 5
}
