{
 "cells": [
  {
   "cell_type": "markdown",
   "id": "ceb7edd4",
   "metadata": {},
   "source": [
    "# Chapter 7"
   ]
  },
  {
   "cell_type": "markdown",
   "id": "db6d6dee",
   "metadata": {},
   "source": [
    "#### Exercise 1"
   ]
  },
  {
   "cell_type": "code",
   "execution_count": 1,
   "id": "ede634c2",
   "metadata": {},
   "outputs": [],
   "source": [
    "class Y:\n",
    "    def  __init__(self,v0):\n",
    "        self.v0 =  v0\n",
    "        self.g = 9.81\n",
    "    def  value(self, t):\n",
    "        return self.v0*t - 0.5*self.g*t**2"
   ]
  },
  {
   "cell_type": "code",
   "execution_count": 2,
   "id": "6d9d9410",
   "metadata": {},
   "outputs": [],
   "source": [
    "y  = Y(v0=3)\n",
    "v = y.value(0.6)"
   ]
  },
  {
   "cell_type": "code",
   "execution_count": 3,
   "id": "67309c82",
   "metadata": {},
   "outputs": [
    {
     "data": {
      "text/plain": [
       "0.034199999999999786"
      ]
     },
     "execution_count": 3,
     "metadata": {},
     "output_type": "execute_result"
    }
   ],
   "source": [
    "v"
   ]
  },
  {
   "cell_type": "code",
   "execution_count": 4,
   "id": "8df1a975",
   "metadata": {},
   "outputs": [
    {
     "data": {
      "text/plain": [
       "1792394249936"
      ]
     },
     "execution_count": 4,
     "metadata": {},
     "output_type": "execute_result"
    }
   ],
   "source": [
    "id(y)"
   ]
  },
  {
   "cell_type": "code",
   "execution_count": 5,
   "id": "5a29e27c",
   "metadata": {},
   "outputs": [
    {
     "data": {
      "text/plain": [
       "1792394306064"
      ]
     },
     "execution_count": 5,
     "metadata": {},
     "output_type": "execute_result"
    }
   ],
   "source": [
    "id(v)"
   ]
  },
  {
   "cell_type": "code",
   "execution_count": 6,
   "id": "1c3db8da",
   "metadata": {},
   "outputs": [
    {
     "data": {
      "text/plain": [
       "3"
      ]
     },
     "execution_count": 6,
     "metadata": {},
     "output_type": "execute_result"
    }
   ],
   "source": [
    "y.v0"
   ]
  },
  {
   "cell_type": "code",
   "execution_count": 7,
   "id": "77ea3cdb",
   "metadata": {},
   "outputs": [
    {
     "data": {
      "text/plain": [
       "9.81"
      ]
     },
     "execution_count": 7,
     "metadata": {},
     "output_type": "execute_result"
    }
   ],
   "source": [
    "y.g"
   ]
  },
  {
   "cell_type": "code",
   "execution_count": 8,
   "id": "bb1fdc16",
   "metadata": {},
   "outputs": [],
   "source": [
    "y2 = Y(10)\n",
    "v2 = y2.value(2)"
   ]
  },
  {
   "cell_type": "code",
   "execution_count": 9,
   "id": "4f7e13ea",
   "metadata": {},
   "outputs": [
    {
     "data": {
      "text/plain": [
       "0.379999999999999"
      ]
     },
     "execution_count": 9,
     "metadata": {},
     "output_type": "execute_result"
    }
   ],
   "source": [
    "v2"
   ]
  },
  {
   "cell_type": "code",
   "execution_count": 10,
   "id": "6a049ab5",
   "metadata": {},
   "outputs": [
    {
     "data": {
      "text/plain": [
       "9.81"
      ]
     },
     "execution_count": 10,
     "metadata": {},
     "output_type": "execute_result"
    }
   ],
   "source": [
    "y2.g"
   ]
  },
  {
   "cell_type": "code",
   "execution_count": 11,
   "id": "b76fd857",
   "metadata": {},
   "outputs": [
    {
     "data": {
      "text/plain": [
       "10"
      ]
     },
     "execution_count": 11,
     "metadata": {},
     "output_type": "execute_result"
    }
   ],
   "source": [
    "y2.v0"
   ]
  },
  {
   "cell_type": "markdown",
   "id": "99070c93",
   "metadata": {},
   "source": [
    "### self in python is similar to this in java"
   ]
  },
  {
   "cell_type": "markdown",
   "id": "78671d10",
   "metadata": {},
   "source": [
    "#### Exercise 2"
   ]
  },
  {
   "cell_type": "code",
   "execution_count": 17,
   "id": "aae439ac",
   "metadata": {},
   "outputs": [],
   "source": [
    "from math import sin, exp, pi\n",
    "import numpy as np\n",
    "def make_table(f, tstop, n):\n",
    "    for t in np.linspace(0, tstop, n):\n",
    "        print(t, f(t))\n",
    "        \n",
    "def g(t):\n",
    "    return sin(t)*exp(-t)"
   ]
  },
  {
   "cell_type": "code",
   "execution_count": 18,
   "id": "b2d3799c",
   "metadata": {},
   "outputs": [
    {
     "name": "stdout",
     "output_type": "stream",
     "text": [
      "0.0 0.0\n",
      "0.06283185307179587 0.05896666275125994\n",
      "0.12566370614359174 0.11053280475926283\n",
      "0.1884955592153876 0.15518998823867325\n",
      "0.25132741228718347 0.1934229563737032\n",
      "0.3141592653589793 0.22570684427122578\n",
      "0.3769911184307752 0.2525047905110204\n",
      "0.4398229715025711 0.27426591969717634\n",
      "0.5026548245743669 0.291423667158713\n",
      "0.5654866776461628 0.30439441781757787\n",
      "0.6283185307179586 0.31357643221701403\n",
      "0.6911503837897546 0.3193490337632623\n",
      "0.7539822368615504 0.32207203236075405\n",
      "0.8168140899333463 0.32208536079906935\n",
      "0.8796459430051422 0.31970890146423414\n",
      "0.942477796076938 0.31524248218412654\n",
      "1.0053096491487339 0.30896602126598327\n",
      "1.0681415022205298 0.3011398030326874\n",
      "1.1309733552923256 0.29200486640435463\n",
      "1.1938052083641215 0.28178349029458355\n",
      "1.2566370614359172 0.27067976078951855\n",
      "1.3194689145077132 0.25888020624656066\n",
      "1.3823007675795091 0.24655448758302845\n",
      "1.4451326206513049 0.23385613211907783\n",
      "1.5079644737231008 0.22092330039028668\n",
      "1.5707963267948968 0.20787957635076187\n",
      "1.6336281798666925 0.19483477234537977\n",
      "1.6964600329384885 0.1818857411383464\n",
      "1.7592918860102844 0.16911718814373933\n",
      "1.8221237390820801 0.1566024778116125\n",
      "1.884955592153876 0.14440442888059668\n",
      "1.9477874452256718 0.1325760939150585\n",
      "2.0106192982974678 0.12116151920248355\n",
      "2.0734511513692637 0.1101964816957949\n",
      "2.1362830044410597 0.09970920024702354\n",
      "2.199114857512855 0.08972101889454062\n",
      "2.261946710584651 0.08024706043753704\n",
      "2.324778563656447 0.07129684896033389\n",
      "2.387610416728243 0.06287490035727154\n",
      "2.450442269800039 0.05498128025829384\n",
      "2.5132741228718345 0.047612129067900924\n",
      "2.5761059759436304 0.04076015410792365\n",
      "2.6389378290154264 0.03441508909962105\n",
      "2.7017696820872223 0.02856412143496456\n",
      "2.7646015351590183 0.023192287872688774\n",
      "2.8274333882308142 0.01828283945375846\n",
      "2.8902652413026098 0.013817576565296013\n",
      "2.9530970943744057 0.00977715519364841\n",
      "3.0159289474462017 0.006141365498009147\n",
      "3.0787608005179976 0.0028893839076411312\n",
      "3.1415926535897936 -1.3898656148249402e-17\n",
      "3.204424506661589 -0.0025481805444203696\n",
      "3.267256359733385 -0.0047765555903322805\n",
      "3.330088212805181 -0.006706367467101806\n",
      "3.392920065876977 -0.008358563827070401\n",
      "3.455751918948773 -0.00975367711991073\n",
      "3.518583772020569 -0.010911721378354177\n",
      "3.5814156250923643 -0.011852105036332099\n",
      "3.6442474781641603 -0.012593558532725393\n",
      "3.7070793312359562 -0.01315407549151735\n",
      "3.769911184307752 -0.013550866311271363\n",
      "3.832743037379548 -0.013800323042660264\n",
      "3.8955748904513436 -0.013917994481484638\n",
      "3.9584067435231396 -0.013918570455528575\n",
      "4.0212385965949355 -0.013815874336075831\n",
      "4.084070449666731 -0.013622862858373526\n",
      "4.1469023027385274 -0.013351632389271121\n",
      "4.209734155810323 -0.013013430834223027\n",
      "4.272566008882119 -0.012618674429421514\n",
      "4.335397861953915 -0.012176968717670593\n",
      "4.39822971502571 -0.01169713305841568\n",
      "4.461061568097507 -0.011187228072847373\n",
      "4.523893421169302 -0.01065458547397924\n",
      "4.586725274241099 -0.010105839778875749\n",
      "4.649557127312894 -0.009546961445628652\n",
      "4.71238898038469 -0.008983291021129429\n",
      "4.775220833456486 -0.008419573927073912\n",
      "4.838052686528282 -0.007859995550898141\n",
      "4.900884539600078 -0.007308216345442542\n",
      "4.9637163926718735 -0.006767406676055229\n",
      "5.026548245743669 -0.006240281186572821\n",
      "5.089380098815465 -0.005729132486175529\n",
      "5.152211951887261 -0.0052358639875305975\n",
      "5.215043804959057 -0.0047620217529573535\n",
      "5.277875658030853 -0.0043088252296209755\n",
      "5.340707511102649 -0.003877196777051039\n",
      "5.403539364174445 -0.0034677899106557155\n",
      "5.46637121724624 -0.0030810162034363847\n",
      "5.529203070318037 -0.002717070804881955\n",
      "5.592034923389832 -0.0023759565511194654\n",
      "5.6548667764616285 -0.002057506653904441\n",
      "5.717698629533424 -0.0017614059680385718\n",
      "5.7805304826052195 -0.001487210847391464\n",
      "5.843362335677016 -0.001234367608967022\n",
      "5.906194188748811 -0.0010022296324802495\n",
      "5.969026041820608 -0.0007900731297843875\n",
      "6.031857894892403 -0.0005971116242961159\n",
      "6.094689747964199 -0.000422509185390539\n",
      "6.157521601035995 -0.00026539246665891755\n",
      "6.220353454107791 -0.00012486160001746297\n",
      "6.283185307179586 -4.573915527954357e-19\n"
     ]
    }
   ],
   "source": [
    "make_table(g, 2*pi,101)"
   ]
  },
  {
   "cell_type": "code",
   "execution_count": 19,
   "id": "fa73661a",
   "metadata": {},
   "outputs": [
    {
     "name": "stdout",
     "output_type": "stream",
     "text": [
      "0.0 0.0\n",
      "0.2 1.8037999999999998\n",
      "0.4 3.2152\n",
      "0.6000000000000001 4.2342\n",
      "0.8 4.860799999999999\n",
      "1.0 5.095\n",
      "1.2000000000000002 4.9368\n",
      "1.4000000000000001 4.386199999999999\n",
      "1.6 3.4431999999999974\n",
      "1.8 2.1077999999999975\n",
      "2.0 0.379999999999999\n"
     ]
    }
   ],
   "source": [
    "make_table(y2.value,2,11)"
   ]
  },
  {
   "cell_type": "markdown",
   "id": "5b8ed817",
   "metadata": {},
   "source": [
    "#### Class for a function with four parameters"
   ]
  },
  {
   "cell_type": "markdown",
   "id": "5ad91637",
   "metadata": {},
   "source": [
    "exercise 3"
   ]
  },
  {
   "cell_type": "code",
   "execution_count": 26,
   "id": "1798aa67",
   "metadata": {},
   "outputs": [],
   "source": [
    "class VelocityProfile:\n",
    "    def __init__(self, beta, mu0, n, R):\n",
    "        self.beta, self.mu0, self.n, self.R = beta, mu0, n, R\n",
    "    def value(self, r):\n",
    "        beta, mu0, n, R = self.beta, self.mu0, self.n, self.R\n",
    "        v =  (beta/2*mu0)**(1/n) * n/(n+1) *(R**(1+1/n)-r**(1+1/n))\n",
    "        return v"
   ]
  },
  {
   "cell_type": "code",
   "execution_count": 27,
   "id": "e6bd02a3",
   "metadata": {},
   "outputs": [],
   "source": [
    "velocity = VelocityProfile(beta=0.06, R=1, n=0.1, mu0=0.02)\n",
    "v = velocity.value(r =0.1)"
   ]
  },
  {
   "cell_type": "code",
   "execution_count": 28,
   "id": "ea127c3c",
   "metadata": {},
   "outputs": [
    {
     "data": {
      "text/plain": [
       "5.496925090854117e-34"
      ]
     },
     "execution_count": 28,
     "metadata": {},
     "output_type": "execute_result"
    }
   ],
   "source": [
    "v"
   ]
  },
  {
   "cell_type": "markdown",
   "id": "c0e3e56f",
   "metadata": {},
   "source": [
    "#### Exploring self"
   ]
  },
  {
   "cell_type": "markdown",
   "id": "1fbad9b6",
   "metadata": {},
   "source": [
    "##### Exercise 4"
   ]
  },
  {
   "cell_type": "code",
   "execution_count": 29,
   "id": "39017d88",
   "metadata": {},
   "outputs": [],
   "source": [
    "class SelfExplorer:\n",
    "    def __init__(self, a):\n",
    "        self.a = a\n",
    "        print(\"intit: a=%g, id(self)=%d\"%(self.a, id(self)))\n",
    "    def value(self, x):\n",
    "        print(\"value: a=%g, id(self)=%d\"%self.a, id(self))\n",
    "        return self.a*x"
   ]
  },
  {
   "cell_type": "code",
   "execution_count": 34,
   "id": "eed4a28b",
   "metadata": {},
   "outputs": [
    {
     "name": "stdout",
     "output_type": "stream",
     "text": [
      "intit: a=1, id(self)=1792399437344\n"
     ]
    }
   ],
   "source": [
    "s1 = SelfExplorer(1)"
   ]
  },
  {
   "cell_type": "code",
   "execution_count": 35,
   "id": "b51c6585",
   "metadata": {},
   "outputs": [
    {
     "data": {
      "text/plain": [
       "1792399437344"
      ]
     },
     "execution_count": 35,
     "metadata": {},
     "output_type": "execute_result"
    }
   ],
   "source": [
    "id(s1)"
   ]
  },
  {
   "cell_type": "markdown",
   "id": "9f15dd3e",
   "metadata": {},
   "source": [
    "Another class example: A bank account"
   ]
  },
  {
   "cell_type": "code",
   "execution_count": 50,
   "id": "2420d4dd",
   "metadata": {},
   "outputs": [],
   "source": [
    "class Account:\n",
    "    def __init__(self, name, account_number, initial_amount):\n",
    "        self.name = name\n",
    "        self.no = account_number\n",
    "        self.balance = initial_amount\n",
    "        \n",
    "    def deposit(self, amount):\n",
    "         self.balance += amount\n",
    "    \n",
    "    def withdraw(self, amount):\n",
    "        self.balance -= amount\n",
    "    \n",
    "    def dump(self):\n",
    "        s = \"%s, %s balance is %s\"%(self.name, self.no, self.balance)\n",
    "        print(s)"
   ]
  },
  {
   "cell_type": "code",
   "execution_count": 52,
   "id": "a3199954",
   "metadata": {},
   "outputs": [],
   "source": [
    "a1= Account(\"zuzinmeko\",1234567899888,2000000)\n",
    "a2=Account(\"moehayman\",23457999099,80000000)\n",
    "a1.deposit(3000)\n",
    "a2.withdraw(120000)\n",
    "a1.withdraw(5000)\n",
    "a1.withdraw(60000)\n"
   ]
  },
  {
   "cell_type": "code",
   "execution_count": 53,
   "id": "5a807056",
   "metadata": {},
   "outputs": [
    {
     "name": "stdout",
     "output_type": "stream",
     "text": [
      "a1's balance is: 1938000\n"
     ]
    }
   ],
   "source": [
    "print(\"a1's balance is:\" ,a1.balance)"
   ]
  },
  {
   "cell_type": "code",
   "execution_count": 54,
   "id": "cd20e87a",
   "metadata": {},
   "outputs": [
    {
     "name": "stdout",
     "output_type": "stream",
     "text": [
      "zuzinmeko, 1234567899888 balance is 1938000\n"
     ]
    }
   ],
   "source": [
    "a1.dump()"
   ]
  },
  {
   "cell_type": "code",
   "execution_count": 55,
   "id": "fb076ee2",
   "metadata": {},
   "outputs": [
    {
     "name": "stdout",
     "output_type": "stream",
     "text": [
      "moehayman, 23457999099 balance is 79880000\n"
     ]
    }
   ],
   "source": [
    "a2.dump()"
   ]
  },
  {
   "cell_type": "markdown",
   "id": "fb4fc01d",
   "metadata": {},
   "source": [
    "#### Phone book"
   ]
  },
  {
   "cell_type": "code",
   "execution_count": 61,
   "id": "5c4dca41",
   "metadata": {},
   "outputs": [],
   "source": [
    "class Person:\n",
    "    def __init__(self, name, mobile = None, office = None, email= None, private=None):\n",
    "        self.name = name\n",
    "        self.mobile = mobile\n",
    "        self.office = office\n",
    "        self.private = private\n",
    "        self.email = email\n",
    "    def add_mobile(self, number):\n",
    "        self.mobile = number\n",
    "    def add_office(self, number):\n",
    "        self.office = number\n",
    "    def add_private(self, number):\n",
    "        self.pirvate = number\n",
    "    def add_email(self, email):\n",
    "        self.email= email\n",
    "    def dump(self):\n",
    "        s = self.name+ '\\n'\n",
    "        if self.mobile is not None:\n",
    "            s += self.mobile + '\\n'\n",
    "        if self.office  is not None:\n",
    "            s += self.office+ '\\n'\n",
    "        if self.private is not None:\n",
    "            s += self.private+'\\n'\n",
    "        if self.email is not None:\n",
    "            s += self.email+'\\n'\n",
    "        print(s)\n",
    "        "
   ]
  },
  {
   "cell_type": "code",
   "execution_count": 62,
   "id": "1144f07b",
   "metadata": {},
   "outputs": [
    {
     "name": "stdout",
     "output_type": "stream",
     "text": [
      "zu zinmiko\n",
      "zuzinmeko5@gmail.com\n",
      "\n",
      "Phyu zinmiiko\n",
      "09230978776\n",
      "\n"
     ]
    }
   ],
   "source": [
    "p1 = Person(\"zu zinmiko\", email=\"zuzinmeko5@gmail.com\")\n",
    "p1.add_private('0989789876')\n",
    "p2 = Person(\"Phyu zinmiiko\")\n",
    "p2.add_office('09230978776')\n",
    "\n",
    "phone_book = [p1, p2]\n",
    "phone_book2 = {\"zu\":p1, \"Phyu\":p2}\n",
    "for p in phone_book:\n",
    "    p.dump()\n"
   ]
  },
  {
   "cell_type": "code",
   "execution_count": null,
   "id": "aa702b66",
   "metadata": {},
   "outputs": [],
   "source": []
  }
 ],
 "metadata": {
  "kernelspec": {
   "display_name": "Python 3",
   "language": "python",
   "name": "python3"
  },
  "language_info": {
   "codemirror_mode": {
    "name": "ipython",
    "version": 3
   },
   "file_extension": ".py",
   "mimetype": "text/x-python",
   "name": "python",
   "nbconvert_exporter": "python",
   "pygments_lexer": "ipython3",
   "version": "3.8.8"
  }
 },
 "nbformat": 4,
 "nbformat_minor": 5
}
