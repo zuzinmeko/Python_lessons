{
 "cells": [
  {
   "cell_type": "markdown",
   "id": "e9248255",
   "metadata": {},
   "source": [
    "# Chapter 2"
   ]
  },
  {
   "cell_type": "markdown",
   "id": "1a9747d2",
   "metadata": {},
   "source": [
    "#### Temperature Convertion with Table"
   ]
  },
  {
   "cell_type": "code",
   "execution_count": 2,
   "id": "a60bf8b6",
   "metadata": {},
   "outputs": [
    {
     "name": "stdout",
     "output_type": "stream",
     "text": [
      "------------------\n",
      "-20 -4.0\n",
      "C is : -15\n",
      "-15 5.0\n",
      "C is : -10\n",
      "-10 14.0\n",
      "C is : -5\n",
      "-5 23.0\n",
      "C is : 0\n",
      "0 32.0\n",
      "C is : 5\n",
      "5 41.0\n",
      "C is : 10\n",
      "10 50.0\n",
      "C is : 15\n",
      "15 59.0\n",
      "C is : 20\n",
      "20 68.0\n",
      "C is : 25\n",
      "25 77.0\n",
      "C is : 30\n",
      "30 86.0\n",
      "C is : 35\n",
      "35 95.0\n",
      "C is : 40\n",
      "40 104.0\n",
      "C is : 45\n",
      "-------------------\n"
     ]
    }
   ],
   "source": [
    "print('------------------')\n",
    "C = -20\n",
    "dC = 5\n",
    "while C <= 40:\n",
    "    F = (9.0/5)*C + 32\n",
    "    print (C, F)\n",
    "    C = C + dC\n",
    "    print('C is :',C)\n",
    "print('-------------------')"
   ]
  },
  {
   "cell_type": "markdown",
   "id": "a340e0e1",
   "metadata": {},
   "source": [
    "#### Combining Boolean Expression"
   ]
  },
  {
   "cell_type": "code",
   "execution_count": 3,
   "id": "b65a205b",
   "metadata": {},
   "outputs": [
    {
     "data": {
      "text/plain": [
       "False"
      ]
     },
     "execution_count": 3,
     "metadata": {},
     "output_type": "execute_result"
    }
   ],
   "source": [
    "x = 0; y = 1.2\n",
    "x >= 0 and y<1"
   ]
  },
  {
   "cell_type": "code",
   "execution_count": 4,
   "id": "0a3946d0",
   "metadata": {},
   "outputs": [
    {
     "data": {
      "text/plain": [
       "True"
      ]
     },
     "execution_count": 4,
     "metadata": {},
     "output_type": "execute_result"
    }
   ],
   "source": [
    "x >= 0 or y<1"
   ]
  },
  {
   "cell_type": "code",
   "execution_count": 5,
   "id": "47fb6804",
   "metadata": {},
   "outputs": [
    {
     "data": {
      "text/plain": [
       "True"
      ]
     },
     "execution_count": 5,
     "metadata": {},
     "output_type": "execute_result"
    }
   ],
   "source": [
    "x > 0 or y>1"
   ]
  },
  {
   "cell_type": "code",
   "execution_count": 6,
   "id": "3392eace",
   "metadata": {},
   "outputs": [
    {
     "data": {
      "text/plain": [
       "False"
      ]
     },
     "execution_count": 6,
     "metadata": {},
     "output_type": "execute_result"
    }
   ],
   "source": [
    "x >0 or not y>1"
   ]
  },
  {
   "cell_type": "code",
   "execution_count": 7,
   "id": "ef9050f6",
   "metadata": {},
   "outputs": [
    {
     "data": {
      "text/plain": [
       "True"
      ]
     },
     "execution_count": 7,
     "metadata": {},
     "output_type": "execute_result"
    }
   ],
   "source": [
    "-1 < x <=0 "
   ]
  },
  {
   "cell_type": "code",
   "execution_count": 8,
   "id": "aaf257f5",
   "metadata": {},
   "outputs": [
    {
     "data": {
      "text/plain": [
       "False"
      ]
     },
     "execution_count": 8,
     "metadata": {},
     "output_type": "execute_result"
    }
   ],
   "source": [
    "not(x>0 or y>0)"
   ]
  },
  {
   "cell_type": "code",
   "execution_count": 10,
   "id": "9b6082e0",
   "metadata": {},
   "outputs": [
    {
     "data": {
      "text/plain": [
       "[-20, -15, -10, -5, 0, 5, 10, 15, 20]"
      ]
     },
     "execution_count": 10,
     "metadata": {},
     "output_type": "execute_result"
    }
   ],
   "source": [
    "C = [-20,-15,-10,-5,0,5,10,15,20]\n",
    "C"
   ]
  },
  {
   "cell_type": "markdown",
   "id": "b9971a83",
   "metadata": {},
   "source": [
    "#### List inltializing and indexing Lists"
   ]
  },
  {
   "cell_type": "code",
   "execution_count": 17,
   "id": "8566cacb",
   "metadata": {},
   "outputs": [],
   "source": [
    "mylist =[3,4,5]"
   ]
  },
  {
   "cell_type": "code",
   "execution_count": 18,
   "id": "729a4278",
   "metadata": {},
   "outputs": [
    {
     "data": {
      "text/plain": [
       "[3, 4, 5]"
      ]
     },
     "execution_count": 18,
     "metadata": {},
     "output_type": "execute_result"
    }
   ],
   "source": [
    "mylist"
   ]
  },
  {
   "cell_type": "code",
   "execution_count": 19,
   "id": "7e942a54",
   "metadata": {},
   "outputs": [
    {
     "data": {
      "text/plain": [
       "3"
      ]
     },
     "execution_count": 19,
     "metadata": {},
     "output_type": "execute_result"
    }
   ],
   "source": [
    "mylist[0]"
   ]
  },
  {
   "cell_type": "code",
   "execution_count": 20,
   "id": "f6b2bd03",
   "metadata": {},
   "outputs": [
    {
     "data": {
      "text/plain": [
       "3"
      ]
     },
     "execution_count": 20,
     "metadata": {},
     "output_type": "execute_result"
    }
   ],
   "source": [
    "len(mylist)"
   ]
  },
  {
   "cell_type": "markdown",
   "id": "8eaa1556",
   "metadata": {},
   "source": [
    "###### list opreations: append,extend,insert,delete"
   ]
  },
  {
   "cell_type": "code",
   "execution_count": 11,
   "id": "4c050955",
   "metadata": {},
   "outputs": [
    {
     "data": {
      "text/plain": [
       "[-20, -15, -10, -5, 0, 5, 10, 15, 20, 35]"
      ]
     },
     "execution_count": 11,
     "metadata": {},
     "output_type": "execute_result"
    }
   ],
   "source": [
    "C = [-20,-15,-10,-5,0,5,10,15,20]\n",
    "C.append(35)\n",
    "C"
   ]
  },
  {
   "cell_type": "code",
   "execution_count": 12,
   "id": "35705180",
   "metadata": {},
   "outputs": [
    {
     "data": {
      "text/plain": [
       "[-20, -15, -10, -5, 0, 5, 10, 15, 20, 35, 40, 45]"
      ]
     },
     "execution_count": 12,
     "metadata": {},
     "output_type": "execute_result"
    }
   ],
   "source": [
    "C = C +[40,45]\n",
    "C"
   ]
  },
  {
   "cell_type": "code",
   "execution_count": 13,
   "id": "60f0aa03",
   "metadata": {},
   "outputs": [
    {
     "data": {
      "text/plain": [
       "[-15, -20, -15, -10, -5, 0, 5, 10, 15, 20, 35, 40, 45]"
      ]
     },
     "execution_count": 13,
     "metadata": {},
     "output_type": "execute_result"
    }
   ],
   "source": [
    "C.insert(0,-15)\n",
    "C"
   ]
  },
  {
   "cell_type": "code",
   "execution_count": 14,
   "id": "4401a28a",
   "metadata": {},
   "outputs": [
    {
     "data": {
      "text/plain": [
       "[-15, -20, -10, -5, 0, 5, 10, 15, 20, 35, 40, 45]"
      ]
     },
     "execution_count": 14,
     "metadata": {},
     "output_type": "execute_result"
    }
   ],
   "source": [
    "del C[2]\n",
    "C"
   ]
  },
  {
   "cell_type": "code",
   "execution_count": 15,
   "id": "4a75002f",
   "metadata": {},
   "outputs": [
    {
     "data": {
      "text/plain": [
       "[-15, -20, -5, 0, 5, 10, 15, 20, 35, 40, 45]"
      ]
     },
     "execution_count": 15,
     "metadata": {},
     "output_type": "execute_result"
    }
   ],
   "source": [
    "del C[2]\n",
    "C"
   ]
  },
  {
   "cell_type": "code",
   "execution_count": 16,
   "id": "c6ac5065",
   "metadata": {},
   "outputs": [
    {
     "data": {
      "text/plain": [
       "11"
      ]
     },
     "execution_count": 16,
     "metadata": {},
     "output_type": "execute_result"
    }
   ],
   "source": [
    "len(C)"
   ]
  },
  {
   "cell_type": "markdown",
   "id": "37d3f505",
   "metadata": {},
   "source": [
    "#### List Operation ; Search for element,negative indices"
   ]
  },
  {
   "cell_type": "code",
   "execution_count": 21,
   "id": "e645810d",
   "metadata": {},
   "outputs": [
    {
     "data": {
      "text/plain": [
       "5"
      ]
     },
     "execution_count": 21,
     "metadata": {},
     "output_type": "execute_result"
    }
   ],
   "source": [
    "    C.index(10)"
   ]
  },
  {
   "cell_type": "code",
   "execution_count": 22,
   "id": "f7a79b23",
   "metadata": {},
   "outputs": [
    {
     "data": {
      "text/plain": [
       "True"
      ]
     },
     "execution_count": 22,
     "metadata": {},
     "output_type": "execute_result"
    }
   ],
   "source": [
    "10 in C"
   ]
  },
  {
   "cell_type": "code",
   "execution_count": 23,
   "id": "4ddbdcc9",
   "metadata": {},
   "outputs": [
    {
     "data": {
      "text/plain": [
       "45"
      ]
     },
     "execution_count": 23,
     "metadata": {},
     "output_type": "execute_result"
    }
   ],
   "source": [
    "C[-1]"
   ]
  },
  {
   "cell_type": "code",
   "execution_count": 24,
   "id": "49816769",
   "metadata": {},
   "outputs": [
    {
     "data": {
      "text/plain": [
       "40"
      ]
     },
     "execution_count": 24,
     "metadata": {},
     "output_type": "execute_result"
    }
   ],
   "source": [
    "C[-2]"
   ]
  },
  {
   "cell_type": "code",
   "execution_count": 25,
   "id": "6c4f0838",
   "metadata": {},
   "outputs": [
    {
     "data": {
      "text/plain": [
       "'book.pdf'"
      ]
     },
     "execution_count": 25,
     "metadata": {},
     "output_type": "execute_result"
    }
   ],
   "source": [
    "somelist= ['book.pdf','book.log','book.tex']\n",
    "textfile, logfile, pdf = somelist\n",
    "textfile"
   ]
  },
  {
   "cell_type": "code",
   "execution_count": 26,
   "id": "ebe6dcf5",
   "metadata": {},
   "outputs": [
    {
     "data": {
      "text/plain": [
       "'book.log'"
      ]
     },
     "execution_count": 26,
     "metadata": {},
     "output_type": "execute_result"
    }
   ],
   "source": [
    "logfile"
   ]
  },
  {
   "cell_type": "code",
   "execution_count": 27,
   "id": "b6e40497",
   "metadata": {},
   "outputs": [
    {
     "data": {
      "text/plain": [
       "'book.tex'"
      ]
     },
     "execution_count": 27,
     "metadata": {},
     "output_type": "execute_result"
    }
   ],
   "source": [
    "pdf"
   ]
  },
  {
   "cell_type": "markdown",
   "id": "7c846b2e",
   "metadata": {},
   "source": [
    "#### Loop over elements in a list with a for loop"
   ]
  },
  {
   "cell_type": "code",
   "execution_count": 32,
   "id": "ecfa8afc",
   "metadata": {},
   "outputs": [
    {
     "name": "stdout",
     "output_type": "stream",
     "text": [
      "Celsius degrees : 0\n",
      "Farenheit degrees : 32.0\n",
      "Celsius degrees : 10\n",
      "Farenheit degrees : 50.0\n",
      "Celsius degrees : 20\n",
      "Farenheit degrees : 68.0\n",
      "Celsius degrees : 30\n",
      "Farenheit degrees : 86.0\n",
      "Celsius degrees : 40\n",
      "Farenheit degrees : 104.0\n",
      "Celsius degrees : 100\n",
      "Farenheit degrees : 212.0\n",
      "list has  : 6 elements\n"
     ]
    }
   ],
   "source": [
    "degrees = [0,10,20,30,40,100]\n",
    "for C in degrees:\n",
    "    print(\"Celsius degrees :\", C)\n",
    "    F = 9/5.0*C + 32\n",
    "    print(\"Farenheit degrees :\", F)\n",
    "print(\"list has  :\", len(degrees), \"elements\")"
   ]
  },
  {
   "cell_type": "code",
   "execution_count": 34,
   "id": "835c63b2",
   "metadata": {},
   "outputs": [
    {
     "name": "stdout",
     "output_type": "stream",
     "text": [
      "0\n",
      "10\n",
      "20\n",
      "40\n",
      "100\n",
      "The degrees list has : 5 elemens\n"
     ]
    }
   ],
   "source": [
    "degrees = [0,10,20,40,100]\n",
    "for C in degrees:\n",
    "    print(C)\n",
    "print(\"The degrees list has :\", len(degrees), \"elemens\")"
   ]
  },
  {
   "cell_type": "code",
   "execution_count": 35,
   "id": "47036847",
   "metadata": {},
   "outputs": [
    {
     "name": "stdout",
     "output_type": "stream",
     "text": [
      "-20 -4.0\n",
      "-15 5.0\n",
      "-10 14.0\n",
      "-5 23.0\n",
      "0 32.0\n",
      "5 41.0\n",
      "10 50.0\n",
      "15 59.0\n",
      "20 68.0\n",
      "25 77.0\n",
      "30 86.0\n",
      "35 95.0\n",
      "40 104.0\n"
     ]
    }
   ],
   "source": [
    "Cdegrees = [-20,-15,-10,-5,0,5,10,15,20,25,30,35,40]\n",
    "for C in Cdegrees:\n",
    "    F = (9.0/5)*C + 32\n",
    "    print(C,F)"
   ]
  },
  {
   "cell_type": "code",
   "execution_count": 36,
   "id": "4175ede9",
   "metadata": {},
   "outputs": [
    {
     "name": "stdout",
     "output_type": "stream",
     "text": [
      "  -20  -4.0\n",
      "  -15   5.0\n",
      "  -10  14.0\n",
      "   -5  23.0\n",
      "    0  32.0\n",
      "    5  41.0\n",
      "   10  50.0\n",
      "   15  59.0\n",
      "   20  68.0\n",
      "   25  77.0\n",
      "   30  86.0\n",
      "   35  95.0\n",
      "   40 104.0\n"
     ]
    }
   ],
   "source": [
    "Cdegrees = [-20,-15,-10,-5,0,5,10,15,20,25,30,35,40]\n",
    "index = 0\n",
    "while index < len(Cdegrees):\n",
    "    C = Cdegrees[index]\n",
    "    F = (9.0/5)*C + 32\n",
    "    print(\"%5d %5.1f\" %(C,F))\n",
    "    index +=1"
   ]
  },
  {
   "cell_type": "markdown",
   "id": "270f539d",
   "metadata": {},
   "source": [
    "#### Implement a mathematical sum via a loop\n"
   ]
  },
  {
   "cell_type": "code",
   "execution_count": 38,
   "id": "9d844c6c",
   "metadata": {},
   "outputs": [
    {
     "name": "stdout",
     "output_type": "stream",
     "text": [
      "1015\n"
     ]
    }
   ],
   "source": [
    "N = 14\n",
    "S = 0\n",
    "for i in range(1, N+1):\n",
    "    S +=i**2\n",
    "print(S)"
   ]
  },
  {
   "cell_type": "code",
   "execution_count": 39,
   "id": "4145e0a1",
   "metadata": {},
   "outputs": [
    {
     "name": "stdout",
     "output_type": "stream",
     "text": [
      "1015\n"
     ]
    }
   ],
   "source": [
    "S = 0\n",
    "i = 1\n",
    "while i  <= N:\n",
    "    S += i**2\n",
    "    i += 1\n",
    "print(S)"
   ]
  },
  {
   "cell_type": "markdown",
   "id": "d2fd5a12",
   "metadata": {},
   "source": [
    "#### Storing the table columns as lists\n"
   ]
  },
  {
   "cell_type": "code",
   "execution_count": 40,
   "id": "97ba9b30",
   "metadata": {},
   "outputs": [
    {
     "name": "stdout",
     "output_type": "stream",
     "text": [
      "[-4.0, 5.0, 14.0, 23.0, 32.0, 41.0, 50.0, 59.0, 68.0, 77.0, 86.0, 95.0, 104.0]\n"
     ]
    }
   ],
   "source": [
    "Cdegrees = [-20,-15,-10,-5,0,5,10,15,20,25,30,35,40]\n",
    "Fdegrees = []\n",
    "for C in Cdegrees:\n",
    "    F = (9.0/5)*C +32\n",
    "    Fdegrees.append(F)\n",
    "print(Fdegrees)"
   ]
  },
  {
   "cell_type": "markdown",
   "id": "c46058be",
   "metadata": {},
   "source": [
    "#### How can we change the elements in a list?\n"
   ]
  },
  {
   "cell_type": "code",
   "execution_count": 41,
   "id": "ed9401d3",
   "metadata": {},
   "outputs": [
    {
     "name": "stdout",
     "output_type": "stream",
     "text": [
      "1\n",
      "3\n",
      "12\n"
     ]
    }
   ],
   "source": [
    "v = [-1,1,10]\n",
    "for e in v:\n",
    "    e = e +2\n",
    "    print(e)"
   ]
  },
  {
   "cell_type": "code",
   "execution_count": 42,
   "id": "1b824383",
   "metadata": {},
   "outputs": [
    {
     "data": {
      "text/plain": [
       "[-1, 1, 10]"
      ]
     },
     "execution_count": 42,
     "metadata": {},
     "output_type": "execute_result"
    }
   ],
   "source": [
    "v"
   ]
  },
  {
   "cell_type": "code",
   "execution_count": 43,
   "id": "229e8b39",
   "metadata": {},
   "outputs": [
    {
     "name": "stdout",
     "output_type": "stream",
     "text": [
      "[-5.0, -4.5, -4.0, -3.5, -3.0, -2.5, -2.0, -1.5, -1.0, -0.5, 0.0, 0.5, 1.0, 1.5, 2.0, 2.5]\n",
      "[-4.0, 5.0, 14.0, 23.0, 32.0, 41.0, 50.0, 59.0, 68.0, 77.0, 86.0, 95.0, 104.0, 23.0, 23.9, 24.8, 25.7, 26.6, 27.5, 28.4, 29.3, 30.2, 31.1, 32.0, 32.9, 33.8, 34.7, 35.6, 36.5]\n"
     ]
    }
   ],
   "source": [
    "n = 16\n",
    "Cdegrees = []\n",
    "for i in range (n):\n",
    "    Cdegrees.append(-5 + i*0.5)\n",
    "    Fdegrees.append((9.0/5)*Cdegrees[i] + 32)\n",
    "print(Cdegrees)\n",
    "print(Fdegrees)"
   ]
  },
  {
   "cell_type": "code",
   "execution_count": 44,
   "id": "28be282b",
   "metadata": {},
   "outputs": [
    {
     "name": "stdout",
     "output_type": "stream",
     "text": [
      "2 1.5 3.9\n",
      "5 -3.8 5.2\n",
      "8 9 -0.5\n"
     ]
    }
   ],
   "source": [
    "l1 = [2,5,8]; l2=[1.5,-3.8,9]; l3 = [3.9,5.2,-0.5]\n",
    "for e1,e2,e3 in zip(l1,l2,l3):\n",
    "    print(e1,e2,e3)"
   ]
  },
  {
   "cell_type": "markdown",
   "id": "d3ecf923",
   "metadata": {},
   "source": [
    "#### Nested list of lists"
   ]
  },
  {
   "cell_type": "code",
   "execution_count": 46,
   "id": "015825f4",
   "metadata": {},
   "outputs": [
    {
     "name": "stdout",
     "output_type": "stream",
     "text": [
      "range(-20, 41, 5)\n",
      "[-4.0, 5.0, 14.0, 23.0, 32.0, 41.0, 50.0, 59.0, 68.0, 77.0, 86.0, 95.0, 104.0]\n"
     ]
    }
   ],
   "source": [
    "Cdegrees = range(-20,41,5)\n",
    "Fdegrees = [9/5*C + 32 for C in Cdegrees]\n",
    "Table1 = [Cdegrees, Fdegrees]\n",
    "print(Table1[0])\n",
    "print(Table1[1])"
   ]
  },
  {
   "cell_type": "markdown",
   "id": "b55f4811",
   "metadata": {},
   "source": [
    "#### Tables of columns and Table of rows"
   ]
  },
  {
   "cell_type": "code",
   "execution_count": 48,
   "id": "fc7d95f6",
   "metadata": {},
   "outputs": [],
   "source": [
    "table2 = []\n",
    "for C, F in zip(Cdegrees, Fdegrees):\n",
    "    row = [C, F]\n",
    "    table2.append(row)\n"
   ]
  },
  {
   "cell_type": "markdown",
   "id": "ff077432",
   "metadata": {},
   "source": [
    "#### more compact with list comprehension:"
   ]
  },
  {
   "cell_type": "code",
   "execution_count": 49,
   "id": "e3ccf10b",
   "metadata": {},
   "outputs": [],
   "source": [
    "table2 = [[C, F] for C,F in zip(Cdegrees, Fdegrees)]"
   ]
  },
  {
   "cell_type": "code",
   "execution_count": 50,
   "id": "79df73d8",
   "metadata": {},
   "outputs": [
    {
     "data": {
      "text/plain": [
       "[[-20, -4.0],\n",
       " [-15, 5.0],\n",
       " [-10, 14.0],\n",
       " [-5, 23.0],\n",
       " [0, 32.0],\n",
       " [5, 41.0],\n",
       " [10, 50.0],\n",
       " [15, 59.0],\n",
       " [20, 68.0],\n",
       " [25, 77.0],\n",
       " [30, 86.0],\n",
       " [35, 95.0],\n",
       " [40, 104.0]]"
      ]
     },
     "execution_count": 50,
     "metadata": {},
     "output_type": "execute_result"
    }
   ],
   "source": [
    "table2"
   ]
  },
  {
   "cell_type": "markdown",
   "id": "2463b08e",
   "metadata": {},
   "source": [
    "#### Slices"
   ]
  },
  {
   "cell_type": "code",
   "execution_count": 51,
   "id": "6100e46b",
   "metadata": {},
   "outputs": [
    {
     "data": {
      "text/plain": [
       "[3, 4, 5]"
      ]
     },
     "execution_count": 51,
     "metadata": {},
     "output_type": "execute_result"
    }
   ],
   "source": [
    "A = [1,2,3,4,5]\n",
    "A[2:]"
   ]
  },
  {
   "cell_type": "code",
   "execution_count": 52,
   "id": "098d5cc4",
   "metadata": {},
   "outputs": [
    {
     "data": {
      "text/plain": [
       "[2, 3]"
      ]
     },
     "execution_count": 52,
     "metadata": {},
     "output_type": "execute_result"
    }
   ],
   "source": [
    "A[1:3]"
   ]
  },
  {
   "cell_type": "code",
   "execution_count": 53,
   "id": "8117b8a1",
   "metadata": {},
   "outputs": [
    {
     "data": {
      "text/plain": [
       "[1, 2, 3]"
      ]
     },
     "execution_count": 53,
     "metadata": {},
     "output_type": "execute_result"
    }
   ],
   "source": [
    "A[:3]"
   ]
  },
  {
   "cell_type": "code",
   "execution_count": 54,
   "id": "a29a8c0f",
   "metadata": {},
   "outputs": [
    {
     "data": {
      "text/plain": [
       "[2, 3, 4]"
      ]
     },
     "execution_count": 54,
     "metadata": {},
     "output_type": "execute_result"
    }
   ],
   "source": [
    "A[1:-1]"
   ]
  },
  {
   "cell_type": "code",
   "execution_count": 55,
   "id": "5deecc59",
   "metadata": {},
   "outputs": [
    {
     "data": {
      "text/plain": [
       "[1, 2, 3, 4, 5]"
      ]
     },
     "execution_count": 55,
     "metadata": {},
     "output_type": "execute_result"
    }
   ],
   "source": [
    "A[:]"
   ]
  },
  {
   "cell_type": "markdown",
   "id": "6317ad32",
   "metadata": {},
   "source": [
    "#### Interaction over nested lists"
   ]
  },
  {
   "cell_type": "code",
   "execution_count": 57,
   "id": "85d2f298",
   "metadata": {},
   "outputs": [
    {
     "name": "stdout",
     "output_type": "stream",
     "text": [
      "5\n",
      "9\n",
      "1\n",
      "2\n",
      "3\n"
     ]
    }
   ],
   "source": [
    "L = [[5,9],[1,2,3]]\n",
    "for row in L:\n",
    "    for col in row:\n",
    "        print(col)"
   ]
  },
  {
   "cell_type": "code",
   "execution_count": 58,
   "id": "1023199f",
   "metadata": {},
   "outputs": [
    {
     "data": {
      "text/plain": [
       "3"
      ]
     },
     "execution_count": 58,
     "metadata": {},
     "output_type": "execute_result"
    }
   ],
   "source": [
    "L[1][-1]"
   ]
  },
  {
   "cell_type": "markdown",
   "id": "b206ff6b",
   "metadata": {},
   "source": [
    "#### Tuples are constant lists"
   ]
  },
  {
   "cell_type": "code",
   "execution_count": 59,
   "id": "04f21ed3",
   "metadata": {},
   "outputs": [],
   "source": [
    "t = (2,4,5,\"book.pdf\")"
   ]
  },
  {
   "cell_type": "code",
   "execution_count": 60,
   "id": "b7fb85dd",
   "metadata": {},
   "outputs": [
    {
     "data": {
      "text/plain": [
       "(2, 4, 5, 'book.pdf')"
      ]
     },
     "execution_count": 60,
     "metadata": {},
     "output_type": "execute_result"
    }
   ],
   "source": [
    "t"
   ]
  },
  {
   "cell_type": "code",
   "execution_count": 62,
   "id": "b59b17c0",
   "metadata": {},
   "outputs": [
    {
     "data": {
      "text/plain": [
       "(4, 5, 'book.pdf')"
      ]
     },
     "execution_count": 62,
     "metadata": {},
     "output_type": "execute_result"
    }
   ],
   "source": [
    "t[1:]"
   ]
  },
  {
   "cell_type": "markdown",
   "id": "577b211b",
   "metadata": {},
   "source": [
    "### Summarizing Example: Oxford Sun House(1929-2009)"
   ]
  },
  {
   "cell_type": "code",
   "execution_count": 63,
   "id": "7bc15445",
   "metadata": {},
   "outputs": [],
   "source": [
    "monthly_mean = [0]*12"
   ]
  },
  {
   "cell_type": "code",
   "execution_count": 64,
   "id": "0b1385c8",
   "metadata": {},
   "outputs": [
    {
     "data": {
      "text/plain": [
       "[0, 0, 0, 0, 0, 0, 0, 0, 0, 0, 0, 0]"
      ]
     },
     "execution_count": 64,
     "metadata": {},
     "output_type": "execute_result"
    }
   ],
   "source": [
    "monthly_mean"
   ]
  },
  {
   "cell_type": "markdown",
   "id": "77bd3ec7",
   "metadata": {},
   "source": [
    "### Final "
   ]
  },
  {
   "cell_type": "code",
   "execution_count": null,
   "id": "3f7ebee8",
   "metadata": {},
   "outputs": [],
   "source": [
    "s = 0\n",
    "k = 1\n",
    "M = 100\n",
    "while k < M:\n",
    "    s += 1/k\n",
    "    k += 1\n",
    "print(s)"
   ]
  },
  {
   "cell_type": "code",
   "execution_count": null,
   "id": "d3d64a71",
   "metadata": {},
   "outputs": [],
   "source": []
  }
 ],
 "metadata": {
  "kernelspec": {
   "display_name": "Python 3",
   "language": "python",
   "name": "python3"
  },
  "language_info": {
   "codemirror_mode": {
    "name": "ipython",
    "version": 3
   },
   "file_extension": ".py",
   "mimetype": "text/x-python",
   "name": "python",
   "nbconvert_exporter": "python",
   "pygments_lexer": "ipython3",
   "version": "3.8.8"
  }
 },
 "nbformat": 4,
 "nbformat_minor": 5
}
